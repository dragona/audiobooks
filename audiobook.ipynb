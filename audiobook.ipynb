{
  "nbformat": 4,
  "nbformat_minor": 0,
  "metadata": {
    "colab": {
      "name": "audiobook.ipynb",
      "provenance": [],
      "collapsed_sections": []
    },
    "kernelspec": {
      "name": "python2",
      "display_name": "Python 2"
    }
  },
  "cells": [
    {
      "cell_type": "markdown",
      "metadata": {
        "id": "Dg5dwwwpu9ow",
        "colab_type": "text"
      },
      "source": [
        "# Download audiobooks from Youtube and convert them to mp3\n",
        "\n"
      ]
    },
    {
      "cell_type": "code",
      "metadata": {
        "id": "g1xgnsuDJqam",
        "colab_type": "code",
        "colab": {}
      },
      "source": [
        "#Define the url from where you want to download the audio book\n",
        "url = \"https://www.youtube.com/watch?v=31j43R77tOc\""
      ],
      "execution_count": 0,
      "outputs": []
    },
    {
      "cell_type": "code",
      "metadata": {
        "id": "QEEX0uvrax-1",
        "colab_type": "code",
        "colab": {}
      },
      "source": [
        "# needed for downloading videos from youtube\n",
        "!pip install --upgrade youtube-dl\n",
        "# needed for converting the youtube files to mp3\n",
        "!pip install pydub\n"
      ],
      "execution_count": 0,
      "outputs": []
    },
    {
      "cell_type": "code",
      "metadata": {
        "id": "8qQWhIR7isiN",
        "colab_type": "code",
        "colab": {}
      },
      "source": [
        "# connect to drive\n",
        "from google.colab import drive\n",
        "drive.mount('/content/drive')"
      ],
      "execution_count": 0,
      "outputs": []
    },
    {
      "cell_type": "code",
      "metadata": {
        "id": "zHVTHhBOiy0d",
        "colab_type": "code",
        "colab": {}
      },
      "source": [
        "# go into audiobooks folder\n",
        "%cd drive/My\\ Drive/\n",
        "!mkdir 'audiobooks-download'\n",
        "%cd 'audiobooks-download/'"
      ],
      "execution_count": 0,
      "outputs": []
    },
    {
      "cell_type": "code",
      "metadata": {
        "id": "qOyNR5j1ktkm",
        "colab_type": "code",
        "colab": {}
      },
      "source": [
        "if \"playlist\" in url:\n",
        "  !youtube-dl -o '%(uploader)s/%(playlist)s/%(playlist_index)s - %(title)s.%(ext)s' url\n",
        "else:\n",
        "  !youtube-dl url"
      ],
      "execution_count": 0,
      "outputs": []
    },
    {
      "cell_type": "code",
      "metadata": {
        "id": "pH4SI39MqTSA",
        "colab_type": "code",
        "colab": {}
      },
      "source": [
        "# Check the current directory and mode into the directory that contains the \n",
        "# files you just downloaded\n",
        "!ls"
      ],
      "execution_count": 0,
      "outputs": []
    },
    {
      "cell_type": "code",
      "metadata": {
        "id": "Id_DXYM7K51K",
        "colab_type": "code",
        "colab": {}
      },
      "source": [
        "# Un-comment the following to zip the files\n",
        "# !zip -r /content/folder_compessed.zip 'folder_to_zip' # You need to specify the folder_to_zip\n"
      ],
      "execution_count": 0,
      "outputs": []
    },
    {
      "cell_type": "code",
      "metadata": {
        "id": "QhPmNoNAZU2Y",
        "colab_type": "code",
        "colab": {}
      },
      "source": [
        "# Convert the video files to mp3\n",
        "import glob\n",
        "from pydub import AudioSegment\n",
        "\n",
        "output_dir = \"./audio/\"\n",
        "!mkdir \"audio\"\n",
        "output_extension = \".mp3\"\n",
        "\n",
        "for file_name in glob.glob(\"*.*\"):\n",
        "  if \"webm\" in file_name:\n",
        "    file_object = AudioSegment.from_file(file_name, format=\"webm\")\n",
        "  elif \"mp4\" in file_name:\n",
        "    file_object = AudioSegment.from_file(file_name, format=\"mp4\")\n",
        "  else:\n",
        "    print(\"Unable to define the downloaded file!\")\n",
        "    break\n",
        "  output_filename = str(file_name.split(\".\")[0]) + output_extension\n",
        "  file_object.export(output_dir + output_filename, format=\"mp3\")\n",
        "  print(\"Converted -- \", output_filename)\n"
      ],
      "execution_count": 0,
      "outputs": []
    }
  ]
}