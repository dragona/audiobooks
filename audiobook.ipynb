{
  "nbformat": 4,
  "nbformat_minor": 0,
  "metadata": {
    "colab": {
      "name": "audiobook.ipynb",
      "provenance": [],
      "collapsed_sections": [],
      "toc_visible": true
    },
    "kernelspec": {
      "name": "python2",
      "display_name": "Python 2"
    }
  },
  "cells": [
    {
      "cell_type": "markdown",
      "metadata": {
        "id": "Dg5dwwwpu9ow",
        "colab_type": "text"
      },
      "source": [
        "# Download audiobooks from Youtube and convert them to mp3\n",
        "\n"
      ]
    },
    {
      "cell_type": "code",
      "metadata": {
        "id": "g1xgnsuDJqam",
        "colab_type": "code",
        "colab": {}
      },
      "source": [
        "#Define the url from where you want to download the audio book\n",
        "url_download = 'https://www.youtube.com/watch?v=31j43R77tOc'"
      ],
      "execution_count": 0,
      "outputs": []
    },
    {
      "cell_type": "code",
      "metadata": {
        "id": "QEEX0uvrax-1",
        "colab_type": "code",
        "colab": {
          "base_uri": "https://localhost:8080/",
          "height": 190
        },
        "outputId": "b3f0834b-ea97-43f1-aa8c-5c1ac3630515"
      },
      "source": [
        "# needed for downloading videos from youtube\n",
        "!pip install --upgrade youtube-dl\n",
        "# needed for converting the youtube files to mp3\n",
        "!pip install pydub\n"
      ],
      "execution_count": 1,
      "outputs": [
        {
          "output_type": "stream",
          "text": [
            "Collecting youtube-dl\n",
            "\u001b[?25l  Downloading https://files.pythonhosted.org/packages/35/f6/c36b2e8dd3fd528e4b10f4061ff97e086448ae248df243e34b9019bc6a50/youtube_dl-2019.11.5-py2.py3-none-any.whl (1.8MB)\n",
            "\r\u001b[K     |▏                               | 10kB 17.9MB/s eta 0:00:01\r\u001b[K     |▍                               | 20kB 1.1MB/s eta 0:00:02\r\u001b[K     |▌                               | 30kB 1.6MB/s eta 0:00:02\r\u001b[K     |▊                               | 40kB 1.1MB/s eta 0:00:02\r\u001b[K     |█                               | 51kB 1.4MB/s eta 0:00:02\r\u001b[K     |█                               | 61kB 1.6MB/s eta 0:00:02\r\u001b[K     |█▎                              | 71kB 1.9MB/s eta 0:00:01\r\u001b[K     |█▍                              | 81kB 2.1MB/s eta 0:00:01\r\u001b[K     |█▋                              | 92kB 2.4MB/s eta 0:00:01\r\u001b[K     |█▉                              | 102kB 1.8MB/s eta 0:00:01\r\u001b[K     |██                              | 112kB 1.8MB/s eta 0:00:01\r\u001b[K     |██▏                             | 122kB 1.8MB/s eta 0:00:01\r\u001b[K     |██▍                             | 133kB 1.8MB/s eta 0:00:01\r\u001b[K     |██▌                             | 143kB 1.8MB/s eta 0:00:01\r\u001b[K     |██▊                             | 153kB 1.8MB/s eta 0:00:01\r\u001b[K     |██▉                             | 163kB 1.8MB/s eta 0:00:01\r\u001b[K     |███                             | 174kB 1.8MB/s eta 0:00:01\r\u001b[K     |███▎                            | 184kB 1.8MB/s eta 0:00:01\r\u001b[K     |███▍                            | 194kB 1.8MB/s eta 0:00:01\r\u001b[K     |███▋                            | 204kB 1.8MB/s eta 0:00:01\r\u001b[K     |███▉                            | 215kB 1.8MB/s eta 0:00:01\r\u001b[K     |████                            | 225kB 1.8MB/s eta 0:00:01\r\u001b[K     |████▏                           | 235kB 1.8MB/s eta 0:00:01\r\u001b[K     |████▎                           | 245kB 1.8MB/s eta 0:00:01\r\u001b[K     |████▌                           | 256kB 1.8MB/s eta 0:00:01\r\u001b[K     |████▊                           | 266kB 1.8MB/s eta 0:00:01\r\u001b[K     |████▉                           | 276kB 1.8MB/s eta 0:00:01\r\u001b[K     |█████                           | 286kB 1.8MB/s eta 0:00:01\r\u001b[K     |█████▎                          | 296kB 1.8MB/s eta 0:00:01\r\u001b[K     |█████▍                          | 307kB 1.8MB/s eta 0:00:01\r\u001b[K     |█████▋                          | 317kB 1.8MB/s eta 0:00:01\r\u001b[K     |█████▊                          | 327kB 1.8MB/s eta 0:00:01\r\u001b[K     |██████                          | 337kB 1.8MB/s eta 0:00:01\r\u001b[K     |██████▏                         | 348kB 1.8MB/s eta 0:00:01\r\u001b[K     |██████▎                         | 358kB 1.8MB/s eta 0:00:01\r\u001b[K     |██████▌                         | 368kB 1.8MB/s eta 0:00:01\r\u001b[K     |██████▊                         | 378kB 1.8MB/s eta 0:00:01\r\u001b[K     |██████▉                         | 389kB 1.8MB/s eta 0:00:01\r\u001b[K     |███████                         | 399kB 1.8MB/s eta 0:00:01\r\u001b[K     |███████▏                        | 409kB 1.8MB/s eta 0:00:01\r\u001b[K     |███████▍                        | 419kB 1.8MB/s eta 0:00:01\r\u001b[K     |███████▋                        | 430kB 1.8MB/s eta 0:00:01\r\u001b[K     |███████▊                        | 440kB 1.8MB/s eta 0:00:01\r\u001b[K     |████████                        | 450kB 1.8MB/s eta 0:00:01\r\u001b[K     |████████▏                       | 460kB 1.8MB/s eta 0:00:01\r\u001b[K     |████████▎                       | 471kB 1.8MB/s eta 0:00:01\r\u001b[K     |████████▌                       | 481kB 1.8MB/s eta 0:00:01\r\u001b[K     |████████▋                       | 491kB 1.8MB/s eta 0:00:01\r\u001b[K     |████████▉                       | 501kB 1.8MB/s eta 0:00:01\r\u001b[K     |█████████                       | 512kB 1.8MB/s eta 0:00:01\r\u001b[K     |█████████▏                      | 522kB 1.8MB/s eta 0:00:01\r\u001b[K     |█████████▍                      | 532kB 1.8MB/s eta 0:00:01\r\u001b[K     |█████████▋                      | 542kB 1.8MB/s eta 0:00:01\r\u001b[K     |█████████▊                      | 552kB 1.8MB/s eta 0:00:01\r\u001b[K     |██████████                      | 563kB 1.8MB/s eta 0:00:01\r\u001b[K     |██████████                      | 573kB 1.8MB/s eta 0:00:01\r\u001b[K     |██████████▎                     | 583kB 1.8MB/s eta 0:00:01\r\u001b[K     |██████████▌                     | 593kB 1.8MB/s eta 0:00:01\r\u001b[K     |██████████▋                     | 604kB 1.8MB/s eta 0:00:01\r\u001b[K     |██████████▉                     | 614kB 1.8MB/s eta 0:00:01\r\u001b[K     |███████████                     | 624kB 1.8MB/s eta 0:00:01\r\u001b[K     |███████████▏                    | 634kB 1.8MB/s eta 0:00:01\r\u001b[K     |███████████▍                    | 645kB 1.8MB/s eta 0:00:01\r\u001b[K     |███████████▌                    | 655kB 1.8MB/s eta 0:00:01\r\u001b[K     |███████████▊                    | 665kB 1.8MB/s eta 0:00:01\r\u001b[K     |████████████                    | 675kB 1.8MB/s eta 0:00:01\r\u001b[K     |████████████                    | 686kB 1.8MB/s eta 0:00:01\r\u001b[K     |████████████▎                   | 696kB 1.8MB/s eta 0:00:01\r\u001b[K     |████████████▌                   | 706kB 1.8MB/s eta 0:00:01\r\u001b[K     |████████████▋                   | 716kB 1.8MB/s eta 0:00:01\r\u001b[K     |████████████▉                   | 727kB 1.8MB/s eta 0:00:01\r\u001b[K     |█████████████                   | 737kB 1.8MB/s eta 0:00:01\r\u001b[K     |█████████████▏                  | 747kB 1.8MB/s eta 0:00:01\r\u001b[K     |█████████████▍                  | 757kB 1.8MB/s eta 0:00:01\r\u001b[K     |█████████████▌                  | 768kB 1.8MB/s eta 0:00:01\r\u001b[K     |█████████████▊                  | 778kB 1.8MB/s eta 0:00:01\r\u001b[K     |██████████████                  | 788kB 1.8MB/s eta 0:00:01\r\u001b[K     |██████████████                  | 798kB 1.8MB/s eta 0:00:01\r\u001b[K     |██████████████▎                 | 808kB 1.8MB/s eta 0:00:01\r\u001b[K     |██████████████▍                 | 819kB 1.8MB/s eta 0:00:01\r\u001b[K     |██████████████▋                 | 829kB 1.8MB/s eta 0:00:01\r\u001b[K     |██████████████▉                 | 839kB 1.8MB/s eta 0:00:01\r\u001b[K     |███████████████                 | 849kB 1.8MB/s eta 0:00:01\r\u001b[K     |███████████████▏                | 860kB 1.8MB/s eta 0:00:01\r\u001b[K     |███████████████▍                | 870kB 1.8MB/s eta 0:00:01\r\u001b[K     |███████████████▌                | 880kB 1.8MB/s eta 0:00:01\r\u001b[K     |███████████████▊                | 890kB 1.8MB/s eta 0:00:01\r\u001b[K     |███████████████▉                | 901kB 1.8MB/s eta 0:00:01\r\u001b[K     |████████████████                | 911kB 1.8MB/s eta 0:00:01\r\u001b[K     |████████████████▎               | 921kB 1.8MB/s eta 0:00:01\r\u001b[K     |████████████████▍               | 931kB 1.8MB/s eta 0:00:01\r\u001b[K     |████████████████▋               | 942kB 1.8MB/s eta 0:00:01\r\u001b[K     |████████████████▉               | 952kB 1.8MB/s eta 0:00:01\r\u001b[K     |█████████████████               | 962kB 1.8MB/s eta 0:00:01\r\u001b[K     |█████████████████▏              | 972kB 1.8MB/s eta 0:00:01\r\u001b[K     |█████████████████▎              | 983kB 1.8MB/s eta 0:00:01\r\u001b[K     |█████████████████▌              | 993kB 1.8MB/s eta 0:00:01\r\u001b[K     |█████████████████▊              | 1.0MB 1.8MB/s eta 0:00:01\r\u001b[K     |█████████████████▉              | 1.0MB 1.8MB/s eta 0:00:01\r\u001b[K     |██████████████████              | 1.0MB 1.8MB/s eta 0:00:01\r\u001b[K     |██████████████████▎             | 1.0MB 1.8MB/s eta 0:00:01\r\u001b[K     |██████████████████▍             | 1.0MB 1.8MB/s eta 0:00:01\r\u001b[K     |██████████████████▋             | 1.1MB 1.8MB/s eta 0:00:01\r\u001b[K     |██████████████████▊             | 1.1MB 1.8MB/s eta 0:00:01\r\u001b[K     |███████████████████             | 1.1MB 1.8MB/s eta 0:00:01\r\u001b[K     |███████████████████▏            | 1.1MB 1.8MB/s eta 0:00:01\r\u001b[K     |███████████████████▎            | 1.1MB 1.8MB/s eta 0:00:01\r\u001b[K     |███████████████████▌            | 1.1MB 1.8MB/s eta 0:00:01\r\u001b[K     |███████████████████▋            | 1.1MB 1.8MB/s eta 0:00:01\r\u001b[K     |███████████████████▉            | 1.1MB 1.8MB/s eta 0:00:01\r\u001b[K     |████████████████████            | 1.1MB 1.8MB/s eta 0:00:01\r\u001b[K     |████████████████████▏           | 1.1MB 1.8MB/s eta 0:00:01\r\u001b[K     |████████████████████▍           | 1.2MB 1.8MB/s eta 0:00:01\r\u001b[K     |████████████████████▋           | 1.2MB 1.8MB/s eta 0:00:01\r\u001b[K     |████████████████████▊           | 1.2MB 1.8MB/s eta 0:00:01\r\u001b[K     |█████████████████████           | 1.2MB 1.8MB/s eta 0:00:01\r\u001b[K     |█████████████████████           | 1.2MB 1.8MB/s eta 0:00:01\r\u001b[K     |█████████████████████▎          | 1.2MB 1.8MB/s eta 0:00:01\r\u001b[K     |█████████████████████▌          | 1.2MB 1.8MB/s eta 0:00:01\r\u001b[K     |█████████████████████▋          | 1.2MB 1.8MB/s eta 0:00:01\r\u001b[K     |█████████████████████▉          | 1.2MB 1.8MB/s eta 0:00:01\r\u001b[K     |██████████████████████          | 1.2MB 1.8MB/s eta 0:00:01\r\u001b[K     |██████████████████████▏         | 1.3MB 1.8MB/s eta 0:00:01\r\u001b[K     |██████████████████████▍         | 1.3MB 1.8MB/s eta 0:00:01\r\u001b[K     |██████████████████████▌         | 1.3MB 1.8MB/s eta 0:00:01\r\u001b[K     |██████████████████████▊         | 1.3MB 1.8MB/s eta 0:00:01\r\u001b[K     |███████████████████████         | 1.3MB 1.8MB/s eta 0:00:01\r\u001b[K     |███████████████████████         | 1.3MB 1.8MB/s eta 0:00:01\r\u001b[K     |███████████████████████▎        | 1.3MB 1.8MB/s eta 0:00:01\r\u001b[K     |███████████████████████▌        | 1.3MB 1.8MB/s eta 0:00:01\r\u001b[K     |███████████████████████▋        | 1.3MB 1.8MB/s eta 0:00:01\r\u001b[K     |███████████████████████▉        | 1.4MB 1.8MB/s eta 0:00:01\r\u001b[K     |████████████████████████        | 1.4MB 1.8MB/s eta 0:00:01\r\u001b[K     |████████████████████████▏       | 1.4MB 1.8MB/s eta 0:00:01\r\u001b[K     |████████████████████████▍       | 1.4MB 1.8MB/s eta 0:00:01\r\u001b[K     |████████████████████████▌       | 1.4MB 1.8MB/s eta 0:00:01\r\u001b[K     |████████████████████████▊       | 1.4MB 1.8MB/s eta 0:00:01\r\u001b[K     |█████████████████████████       | 1.4MB 1.8MB/s eta 0:00:01\r\u001b[K     |█████████████████████████       | 1.4MB 1.8MB/s eta 0:00:01\r\u001b[K     |█████████████████████████▎      | 1.4MB 1.8MB/s eta 0:00:01\r\u001b[K     |█████████████████████████▍      | 1.4MB 1.8MB/s eta 0:00:01\r\u001b[K     |█████████████████████████▋      | 1.5MB 1.8MB/s eta 0:00:01\r\u001b[K     |█████████████████████████▉      | 1.5MB 1.8MB/s eta 0:00:01\r\u001b[K     |██████████████████████████      | 1.5MB 1.8MB/s eta 0:00:01\r\u001b[K     |██████████████████████████▏     | 1.5MB 1.8MB/s eta 0:00:01\r\u001b[K     |██████████████████████████▍     | 1.5MB 1.8MB/s eta 0:00:01\r\u001b[K     |██████████████████████████▌     | 1.5MB 1.8MB/s eta 0:00:01\r\u001b[K     |██████████████████████████▊     | 1.5MB 1.8MB/s eta 0:00:01\r\u001b[K     |██████████████████████████▉     | 1.5MB 1.8MB/s eta 0:00:01\r\u001b[K     |███████████████████████████     | 1.5MB 1.8MB/s eta 0:00:01\r\u001b[K     |███████████████████████████▎    | 1.5MB 1.8MB/s eta 0:00:01\r\u001b[K     |███████████████████████████▍    | 1.6MB 1.8MB/s eta 0:00:01\r\u001b[K     |███████████████████████████▋    | 1.6MB 1.8MB/s eta 0:00:01\r\u001b[K     |███████████████████████████▉    | 1.6MB 1.8MB/s eta 0:00:01\r\u001b[K     |████████████████████████████    | 1.6MB 1.8MB/s eta 0:00:01\r\u001b[K     |████████████████████████████▏   | 1.6MB 1.8MB/s eta 0:00:01\r\u001b[K     |████████████████████████████▎   | 1.6MB 1.8MB/s eta 0:00:01\r\u001b[K     |████████████████████████████▌   | 1.6MB 1.8MB/s eta 0:00:01\r\u001b[K     |████████████████████████████▊   | 1.6MB 1.8MB/s eta 0:00:01\r\u001b[K     |████████████████████████████▉   | 1.6MB 1.8MB/s eta 0:00:01\r\u001b[K     |█████████████████████████████   | 1.6MB 1.8MB/s eta 0:00:01\r\u001b[K     |█████████████████████████████▎  | 1.7MB 1.8MB/s eta 0:00:01\r\u001b[K     |█████████████████████████████▍  | 1.7MB 1.8MB/s eta 0:00:01\r\u001b[K     |█████████████████████████████▋  | 1.7MB 1.8MB/s eta 0:00:01\r\u001b[K     |█████████████████████████████▊  | 1.7MB 1.8MB/s eta 0:00:01\r\u001b[K     |██████████████████████████████  | 1.7MB 1.8MB/s eta 0:00:01\r\u001b[K     |██████████████████████████████▏ | 1.7MB 1.8MB/s eta 0:00:01\r\u001b[K     |██████████████████████████████▎ | 1.7MB 1.8MB/s eta 0:00:01\r\u001b[K     |██████████████████████████████▌ | 1.7MB 1.8MB/s eta 0:00:01\r\u001b[K     |██████████████████████████████▊ | 1.7MB 1.8MB/s eta 0:00:01\r\u001b[K     |██████████████████████████████▉ | 1.8MB 1.8MB/s eta 0:00:01\r\u001b[K     |███████████████████████████████ | 1.8MB 1.8MB/s eta 0:00:01\r\u001b[K     |███████████████████████████████▏| 1.8MB 1.8MB/s eta 0:00:01\r\u001b[K     |███████████████████████████████▍| 1.8MB 1.8MB/s eta 0:00:01\r\u001b[K     |███████████████████████████████▋| 1.8MB 1.8MB/s eta 0:00:01\r\u001b[K     |███████████████████████████████▊| 1.8MB 1.8MB/s eta 0:00:01\r\u001b[K     |████████████████████████████████| 1.8MB 1.8MB/s eta 0:00:01\r\u001b[K     |████████████████████████████████| 1.8MB 1.8MB/s \n",
            "\u001b[?25hInstalling collected packages: youtube-dl\n",
            "Successfully installed youtube-dl-2019.11.5\n",
            "Collecting pydub\n",
            "  Downloading https://files.pythonhosted.org/packages/79/db/eaf620b73a1eec3c8c6f8f5b0b236a50f9da88ad57802154b7ba7664d0b8/pydub-0.23.1-py2.py3-none-any.whl\n",
            "Installing collected packages: pydub\n",
            "Successfully installed pydub-0.23.1\n"
          ],
          "name": "stdout"
        }
      ]
    },
    {
      "cell_type": "code",
      "metadata": {
        "id": "8qQWhIR7isiN",
        "colab_type": "code",
        "colab": {}
      },
      "source": [
        "# connect to drive\n",
        "from google.colab import drive\n",
        "drive.mount('/content/drive')"
      ],
      "execution_count": 0,
      "outputs": []
    },
    {
      "cell_type": "code",
      "metadata": {
        "id": "zHVTHhBOiy0d",
        "colab_type": "code",
        "colab": {}
      },
      "source": [
        "# go into audiobooks folder\n",
        "%cd drive/My\\ Drive/\n",
        "!mkdir 'audiobooks-download'\n",
        "%cd 'audiobooks-download/'"
      ],
      "execution_count": 0,
      "outputs": []
    },
    {
      "cell_type": "code",
      "metadata": {
        "id": "qOyNR5j1ktkm",
        "colab_type": "code",
        "colab": {}
      },
      "source": [
        "if \"playlist\" in url_download:\n",
        "  print(\"one\")\n",
        "  !youtube-dl -o '%(uploader)s/%(playlist)s/%(playlist_index)s - %(title)s.%(ext)s' url\n",
        "else:\n",
        "  # need to pass the url\n",
        "  print(\"You need to update the URL\")\n",
        "  !youtube-dl -f 'bestvideo[ext=mp4]+bestaudio[ext=m4a]/best[ext=mp4]/best' 'https://www.youtube.com/watch?v=31j43R77tOc'\n",
        "  "
      ],
      "execution_count": 0,
      "outputs": []
    },
    {
      "cell_type": "code",
      "metadata": {
        "id": "J_irj4vcRidI",
        "colab_type": "code",
        "colab": {
          "base_uri": "https://localhost:8080/",
          "height": 275
        },
        "outputId": "1d9ffbe0-8fa8-44f9-f3cc-67b0e77fa1d3"
      },
      "source": [
        "# Downlaod based on a search query\n",
        "!youtube-dl \"ytsearch:The 7 Habits of Highly Effective People Audiobook Summary\""
      ],
      "execution_count": 2,
      "outputs": [
        {
          "output_type": "stream",
          "text": [
            "[youtube:search] query \"The 7 Habits of Highly Effective People Audiobook Summary\": Downloading page 1\n",
            "[download] Downloading playlist: The 7 Habits of Highly Effective People Audiobook Summary\n",
            "[youtube:search] playlist The 7 Habits of Highly Effective People Audiobook Summary: Collected 1 video ids (downloading 1 of them)\n",
            "[download] Downloading video 1 of 1\n",
            "[youtube] ktlTxC4QG8g: Downloading webpage\n",
            "[youtube] ktlTxC4QG8g: Downloading video info webpage\n",
            "[download] Destination: THE 7 HABITS OF HIGHLY EFFECTIVE PEOPLE BY STEPHEN COVEY - ANIMATED BOOK SUMMARY-ktlTxC4QG8g.f248.webm\n",
            "\u001b[K[download] 100% of 32.82MiB in 00:00\n",
            "[download] Destination: THE 7 HABITS OF HIGHLY EFFECTIVE PEOPLE BY STEPHEN COVEY - ANIMATED BOOK SUMMARY-ktlTxC4QG8g.f251.webm\n",
            "\u001b[K[download] 100% of 7.13MiB in 00:00\n",
            "[ffmpeg] Merging formats into \"THE 7 HABITS OF HIGHLY EFFECTIVE PEOPLE BY STEPHEN COVEY - ANIMATED BOOK SUMMARY-ktlTxC4QG8g.webm\"\n",
            "Deleting original file THE 7 HABITS OF HIGHLY EFFECTIVE PEOPLE BY STEPHEN COVEY - ANIMATED BOOK SUMMARY-ktlTxC4QG8g.f248.webm (pass -k to keep)\n",
            "Deleting original file THE 7 HABITS OF HIGHLY EFFECTIVE PEOPLE BY STEPHEN COVEY - ANIMATED BOOK SUMMARY-ktlTxC4QG8g.f251.webm (pass -k to keep)\n",
            "[download] Finished downloading playlist: The 7 Habits of Highly Effective People Audiobook Summary\n"
          ],
          "name": "stdout"
        }
      ]
    },
    {
      "cell_type": "code",
      "metadata": {
        "id": "pH4SI39MqTSA",
        "colab_type": "code",
        "colab": {}
      },
      "source": [
        "# Check the current directory and mode into the directory that contains the \n",
        "# files you just downloaded\n",
        "!ls"
      ],
      "execution_count": 0,
      "outputs": []
    },
    {
      "cell_type": "code",
      "metadata": {
        "id": "Id_DXYM7K51K",
        "colab_type": "code",
        "colab": {}
      },
      "source": [
        "# Un-comment the following to zip the files\n",
        "# !zip -r /content/folder_compessed.zip 'folder_to_zip' # You need to specify the folder_to_zip\n"
      ],
      "execution_count": 0,
      "outputs": []
    },
    {
      "cell_type": "code",
      "metadata": {
        "id": "QhPmNoNAZU2Y",
        "colab_type": "code",
        "colab": {}
      },
      "source": [
        "# Convert the video files to mp3\n",
        "import glob\n",
        "from pydub import AudioSegment\n",
        "\n",
        "output_dir = \"./audio/\"\n",
        "!mkdir \"audio\"\n",
        "output_extension = \".mp3\"\n",
        "\n",
        "for file_name in glob.glob(\"*.*\"):\n",
        "  if \"webm\" in file_name:\n",
        "    file_object = AudioSegment.from_file(file_name, format=\"webm\")\n",
        "  elif \"mp4\" in file_name:\n",
        "    file_object = AudioSegment.from_file(file_name, format=\"mp4\")\n",
        "  else:\n",
        "    print(\"Unable to define the downloaded file!\")\n",
        "    break\n",
        "  output_filename = str(file_name.split(\".\")[0]) + output_extension\n",
        "  file_object.export(output_dir + output_filename, format=\"mp3\")\n",
        "  print(\"Converted -- \", output_filename)\n"
      ],
      "execution_count": 0,
      "outputs": []
    }
  ]
}